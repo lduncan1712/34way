{
 "cells": [
  {
   "cell_type": "code",
   "execution_count": 21,
   "metadata": {},
   "outputs": [],
   "source": [
    "import random"
   ]
  },
  {
   "cell_type": "code",
   "execution_count": 22,
   "metadata": {},
   "outputs": [],
   "source": [
    "\n",
    "\n",
    "def generate_lambda_split(lamb):\n",
    "\n",
    "    a = random.randint(1, lambda_value - 2)\n",
    "    b = random.randint(1, lambda_value - a - 1)\n",
    "    c = lambda_value - a - b\n",
    "\n",
    "    return [a,b,c]\n",
    "\n",
    "def generate_3_test_data(lamb = 1000, k = 50,n = 100):\n",
    "\n",
    "    with open(\"A.txt\", \"w+\") as A, open(\"B.txt\", \"w+\") as B, open(\"C.txt\", \"w+\") as C:\n",
    "\n",
    "        solution_rows = [randint(0,100) for x in range(3)]\n",
    "        solution_split= [generate_lambda_split(lamb) for y in range(k)]\n",
    "\n",
    "        for index, file in enumerate([A,B,C]):\n",
    "\n",
    "            for row in range(n):\n",
    "\n",
    "                if row == solution_rows[index]:\n",
    "                    file.write(f\"{[sol[range] for sol in solution_split]}\\n\")\n",
    "                else:\n",
    "                    file.write(f\"{[randint(0,1000) for col in range(k)]}\\n\")\n",
    "            \n",
    "            file.truncate()\n"
   ]
  },
  {
   "cell_type": "code",
   "execution_count": 80,
   "metadata": {},
   "outputs": [
    {
     "name": "stdout",
     "output_type": "stream",
     "text": [
      "Test data generated and written to A.txt, B.txt, and C.txt.\n",
      "[8430, 2973, 6617]\n"
     ]
    }
   ],
   "source": [
    "import random\n",
    "\n",
    "def generate_lambda_split(lamb):\n",
    "    \"\"\"Generate three positive integers that sum to lamb.\"\"\"\n",
    "    a = random.randint(1, lamb - 2)\n",
    "    b = random.randint(1, lamb - a - 1)\n",
    "    c = lamb - a - b  # The third number is determined by the first two\n",
    "    return [a, b, c]\n",
    "\n",
    "def generate_3_test_data(lamb, k, n):\n",
    "    \"\"\"Generate test data and save it into A.txt, B.txt, C.txt.\"\"\"\n",
    "    # Create solution rows and splits\n",
    "    solution_rows = [random.randint(0, n-1) for x in range(3)]\n",
    "    solution_split = [generate_lambda_split(lamb) for y in range(k)]\n",
    "    \n",
    "    with open(\"A.txt\", \"w+\") as A, open(\"B.txt\", \"w+\") as B, open(\"C.txt\", \"w+\") as C:\n",
    "        \n",
    "        # Writing data to the files A.txt, B.txt, and C.txt\n",
    "        for index, file in enumerate([A, B, C]):\n",
    "            for row in range(n):\n",
    "\n",
    "\n",
    "\n",
    "                if row == solution_rows[index]:\n",
    "                    # Join the values as strings without square brackets\n",
    "                    file.write(f\"{' '.join(map(str, [val[index] for val in solution_split]))}\\n\")\n",
    "                else:\n",
    "                    # Generate random values if it's not a solution row\n",
    "                    file.write(f\"{' '.join(str(random.randint(0, lamb)) for col in range(k))}\\n\")\n",
    "\n",
    "                # # Checking if the row index matches the solution row\n",
    "                # if row == solution_rows[index]:\n",
    "                #     file.write(f\"{[val[index] for val in solution_split]}\\n\")  # Write the solution row from the split\n",
    "                # else:\n",
    "                #     # Generate random values if it's not a solution row\n",
    "                #     file.write(f\"{[random.randint(0, lamb) for col in range(k)]}\\n\")\n",
    "            \n",
    "            # Ensure the file content is written correctly\n",
    "            file.truncate()\n",
    "\n",
    "    print(\"Test data generated and written to A.txt, B.txt, and C.txt.\")\n",
    "    print(f\"{solution_rows}\")\n",
    "\n",
    "# Example usage\n",
    "generate_3_test_data(lamb=10000, k=100, n=10000)\n"
   ]
  },
  {
   "cell_type": "code",
   "execution_count": 32,
   "metadata": {},
   "outputs": [
    {
     "name": "stdout",
     "output_type": "stream",
     "text": [
      "Test data generated and written to A.txt, B.txt, and C.txt.\n",
      "Rows Guarenteed To Solve: [97, 79, 1]\n"
     ]
    }
   ],
   "source": [
    "import random\n",
    "\n",
    "def generate_lambda_split(lamb):\n",
    "    \"\"\"Generate three positive integers that sum to lamb.\"\"\"\n",
    "    a = random.randint(1, lamb - 2)\n",
    "    b = random.randint(1, lamb - a - 1)\n",
    "    c = lamb - a - b  # The third number is determined by the first two\n",
    "    return [a, b, c]\n",
    "\n",
    "def generate_3_test_data(lamb=1000, k=50, n=100):\n",
    "    \"\"\"Generate test data and save it into A.txt, B.txt, C.txt.\"\"\"\n",
    "    # Create solution rows and splits\n",
    "    solution_rows = [random.randint(0, n - 1) for x in range(3)]  # Ensure valid row indices\n",
    "    solution_split = [generate_lambda_split(lamb) for y in range(k)]\n",
    "    \n",
    "    with open(\"A.txt\", \"w+\") as A, open(\"B.txt\", \"w+\") as B, open(\"C.txt\", \"w+\") as C:\n",
    "        \n",
    "        # Writing data to the files A.txt, B.txt, and C.txt\n",
    "        for index, file in enumerate([A, B, C]):\n",
    "            for row in range(n):\n",
    "                # Checking if the row index matches the solution row for each file\n",
    "                if row == solution_rows[index]:\n",
    "                    # We need to ensure that we are within the bounds of solution_split\n",
    "                    file.write(f\"{[solution_split[item][index] for item in range(k)]}\\n\")  # Use modulo to prevent index overflow\n",
    "                else:\n",
    "                    # Generate random values if it's not a solution row\n",
    "                    file.write(f\"{[random.randint(0, 1000) for col in range(k)]}\\n\")\n",
    "            \n",
    "            # Ensure the file content is written correctly\n",
    "            file.truncate()\n",
    "\n",
    "    print(\"Test data generated and written to A.txt, B.txt, and C.txt.\")\n",
    "    print(f\"Rows Guarenteed To Solve: {solution_rows}\")\n",
    "\n",
    "# Example usage\n",
    "generate_3_test_data(lamb=1000, k=50, n=100)\n"
   ]
  }
 ],
 "metadata": {
  "kernelspec": {
   "display_name": "Python 3",
   "language": "python",
   "name": "python3"
  },
  "language_info": {
   "codemirror_mode": {
    "name": "ipython",
    "version": 3
   },
   "file_extension": ".py",
   "mimetype": "text/x-python",
   "name": "python",
   "nbconvert_exporter": "python",
   "pygments_lexer": "ipython3",
   "version": "3.11.5"
  }
 },
 "nbformat": 4,
 "nbformat_minor": 2
}
